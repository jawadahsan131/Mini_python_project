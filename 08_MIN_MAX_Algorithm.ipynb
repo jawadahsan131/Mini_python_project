{
 "cells": [
  {
   "cell_type": "markdown",
   "metadata": {},
   "source": [
    "# MIN MAX Algoritm"
   ]
  },
  {
   "cell_type": "code",
   "execution_count": 9,
   "metadata": {},
   "outputs": [
    {
     "name": "stdout",
     "output_type": "stream",
     "text": [
      "The value is: 15\n"
     ]
    }
   ],
   "source": [
    "def minmax(depth,node_index,is_max,val,alpha,beta):\n",
    "    if depth == 0:\n",
    "        return val[node_index]\n",
    "    \n",
    "    if is_max:\n",
    "        best_val     = float(\"-inf\")\n",
    "        for i in range(2):\n",
    "            value    = minmax(depth-1, node_index*2 + i, False, val, alpha, beta)\n",
    "            best_val = max(best_val, value)\n",
    "            alpha    = max(alpha, best_val)\n",
    "            if beta <= alpha:\n",
    "                break\n",
    "        return best_val\n",
    "    else:\n",
    "        best_val     = float(\"inf\")\n",
    "        for i in range(2):\n",
    "            value    = minmax(depth-1, node_index*2 + i, True, val, alpha, beta)\n",
    "            best_val = min(best_val, value)\n",
    "            beta     = min(beta, best_val)\n",
    "            if beta <= alpha:\n",
    "                break\n",
    "        return best_val\n",
    "val    = [15,9,12,23,5,3,2,9] # Leaf nodes\n",
    "depth  = 3             # Height of the tree\n",
    "alpha  = float(\"-inf\") # Alpha vlaues  \n",
    "beta   = float(\"inf\")  # Beta values\n",
    "\n",
    "best_val = minmax(depth, 0, True, val, alpha,beta)\n",
    "print(\"The value is:\", best_val)"
   ]
  },
  {
   "cell_type": "code",
   "execution_count": null,
   "metadata": {},
   "outputs": [],
   "source": []
  },
  {
   "cell_type": "code",
   "execution_count": null,
   "metadata": {},
   "outputs": [],
   "source": []
  }
 ],
 "metadata": {
  "kernelspec": {
   "display_name": "Python 3",
   "language": "python",
   "name": "python3"
  },
  "language_info": {
   "codemirror_mode": {
    "name": "ipython",
    "version": 3
   },
   "file_extension": ".py",
   "mimetype": "text/x-python",
   "name": "python",
   "nbconvert_exporter": "python",
   "pygments_lexer": "ipython3",
   "version": "3.13.0"
  }
 },
 "nbformat": 4,
 "nbformat_minor": 2
}
