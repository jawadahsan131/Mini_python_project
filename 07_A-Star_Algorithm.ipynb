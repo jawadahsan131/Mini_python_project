{
 "cells": [
  {
   "cell_type": "code",
   "execution_count": 7,
   "metadata": {},
   "outputs": [],
   "source": [
    "class Node:\n",
    "    def __init__(self,position, g=0, h=0, parent=None):\n",
    "        self.position = position \n",
    "        self.g        = g        # \"Cost\" from start to current node.\n",
    "        self.h        = h        # Heuristic-cost (estimsted cost to Goal).\n",
    "        self.f        = g + h    # Total cost (g + h).\n",
    "        self.parent   = parent   # Reference to parent code."
   ]
  },
  {
   "cell_type": "code",
   "execution_count": 8,
   "metadata": {},
   "outputs": [],
   "source": [
    "# Heuristic function:\n",
    "def heuristic_function(current, goal):\n",
    "    return abs(current[0] - goal[0]) + abs(current[1] - goal[1])"
   ]
  },
  {
   "cell_type": "code",
   "execution_count": 9,
   "metadata": {},
   "outputs": [
    {
     "name": "stdout",
     "output_type": "stream",
     "text": [
      "Path is --Found-- :  [(0, 0), (0, 1), (0, 2), (1, 2), (2, 2), (2, 3), (2, 4), (3, 4), (4, 4)]\n"
     ]
    }
   ],
   "source": [
    "def A_Star(start, goal, grid):\n",
    "    open_list   = []\n",
    "    closed_list = []\n",
    "    start_node  = Node(start) # Creating start node.\n",
    "    goal_node   = Node(goal)  # Creating goal node. \n",
    "\n",
    "    open_list.append(start_node)\n",
    "\n",
    "    while open_list:\n",
    "        current_node = min(open_list, key=lambda node: node.f  ) # Select node with the lowest function value.\n",
    "        \n",
    "        if current_node.position == goal_node.position:\n",
    "            path = []\n",
    "            while current_node is not None:\n",
    "                path.append(current_node.position)\n",
    "                current_node = current_node.parent\n",
    "            return path[::-1] # Return reversed path (from start to goal)\n",
    "        \n",
    "        open_list.remove(current_node)\n",
    "        closed_list.append(current_node)\n",
    "\n",
    "        # Possible movement directions (UP, DOWN, LEFT, RIGHT)\n",
    "        neighbours = [(0,1),(1,0),(0,-1),(-1,0)]\n",
    "        for val in neighbours:\n",
    "            neighbours_psition = (current_node.position[0] + val[0], current_node.position[1] + val[1])\n",
    "\n",
    "            if 0 <= neighbours_psition[0] <len(grid) and 0 <= neighbours_psition[1] < len(grid[0]) and grid[neighbours_psition[0]][neighbours_psition[1]] == 0:\n",
    "                if any(node.position == neighbours_psition for node in closed_list):\n",
    "                    continue\n",
    "\n",
    "                g_cost          = current_node.g + 1\n",
    "                h_cost          = heuristic_function(neighbours_psition, goal_node.position)\n",
    "                neighbour_node  = Node(neighbours_psition, g=g_cost , h=h_cost, parent=current_node)\n",
    "\n",
    "                if any(node.position == neighbours_psition and node.g < neighbour_node.g for node in open_list):\n",
    "                    continue\n",
    "                open_list.append(neighbour_node)\n",
    "\n",
    "    return None # Return None if no path is found.\n",
    "\n",
    "grid = [\n",
    "    [0,0,0,0,1],\n",
    "    [0,1,0,1,0],\n",
    "    [0,1,0,0,0],\n",
    "    [0,0,1,0,0],\n",
    "    [0,1,0,0,0]\n",
    "]\n",
    "\n",
    "start = (0,0)\n",
    "goal  = (4,4)\n",
    "\n",
    "path = A_Star(start,goal,grid)\n",
    "if path:\n",
    "    print(\"Path is --Found-- : \",path)\n",
    "else:\n",
    "    print(\"No path is --Found--\")"
   ]
  },
  {
   "cell_type": "code",
   "execution_count": null,
   "metadata": {},
   "outputs": [],
   "source": []
  }
 ],
 "metadata": {
  "kernelspec": {
   "display_name": "Python 3",
   "language": "python",
   "name": "python3"
  },
  "language_info": {
   "codemirror_mode": {
    "name": "ipython",
    "version": 3
   },
   "file_extension": ".py",
   "mimetype": "text/x-python",
   "name": "python",
   "nbconvert_exporter": "python",
   "pygments_lexer": "ipython3",
   "version": "3.13.0"
  }
 },
 "nbformat": 4,
 "nbformat_minor": 2
}
