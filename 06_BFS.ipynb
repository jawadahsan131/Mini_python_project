{
 "cells": [
  {
   "cell_type": "markdown",
   "metadata": {},
   "source": [
    "### 1. BFS Without \"Queue\" and \"Node\""
   ]
  },
  {
   "cell_type": "code",
   "execution_count": 10,
   "metadata": {},
   "outputs": [],
   "source": [
    "def BFS(Graph, Start):\n",
    "    visited = set()\n",
    "    visiting = [Start]\n",
    "    while visiting:\n",
    "        value = visiting.pop(0)\n",
    "        if value not in visited:\n",
    "            print(value)\n",
    "            visited.add(value)\n",
    "\n",
    "            for neighbor in Graph[value]:\n",
    "                if neighbor not in visited:\n",
    "                    visiting.append(neighbor)"
   ]
  },
  {
   "cell_type": "markdown",
   "metadata": {},
   "source": [
    "##### Graph Example:"
   ]
  },
  {
   "cell_type": "code",
   "execution_count": 11,
   "metadata": {},
   "outputs": [
    {
     "name": "stdout",
     "output_type": "stream",
     "text": [
      "A\n",
      "B\n",
      "C\n",
      "D\n",
      "E\n",
      "F\n"
     ]
    }
   ],
   "source": [
    "Graph = {\n",
    "    \"A\" : [\"B\",\"C\"],\n",
    "    \"B\" : [\"D\",\"E\"],\n",
    "    \"C\" : [\"F\"],\n",
    "    \"D\" : [],\n",
    "    \"E\" : [],\n",
    "    \"F\" : [],\n",
    "}\n",
    "# Start from \"A\"\n",
    "BFS(Graph, \"A\")"
   ]
  },
  {
   "cell_type": "markdown",
   "metadata": {},
   "source": [
    "### BFS with \"Queue\" and \"Node\":\n"
   ]
  },
  {
   "cell_type": "code",
   "execution_count": 14,
   "metadata": {},
   "outputs": [],
   "source": [
    "class node:\n",
    "    def __init__(self,value):\n",
    "        self.value     = value\n",
    "        self.neighbors = []\n",
    "\n",
    "    def add_neighbor(self,neighbor_node):\n",
    "        self.neighbors.append(neighbor_node)"
   ]
  },
  {
   "cell_type": "code",
   "execution_count": 15,
   "metadata": {},
   "outputs": [],
   "source": [
    "def bfs_traversal(start_node):\n",
    "    visited =  set()\n",
    "    queue   =  [start_node]\n",
    "\n",
    "    while queue:\n",
    "        Node = queue.pop(0)\n",
    "        if Node not in visited:\n",
    "            print(Node.value)\n",
    "            visited.add(Node)\n",
    "\n",
    "            for neighbor in Node.neighbors:\n",
    "                if neighbor not in visited:\n",
    "                    queue.append(neighbor)"
   ]
  },
  {
   "cell_type": "markdown",
   "metadata": {},
   "source": [
    "##### Node Example"
   ]
  },
  {
   "cell_type": "code",
   "execution_count": 18,
   "metadata": {},
   "outputs": [
    {
     "name": "stdout",
     "output_type": "stream",
     "text": [
      "A\n",
      "B\n",
      "C\n",
      "D\n"
     ]
    }
   ],
   "source": [
    "node1 = node(\"A\")\n",
    "node2 = node(\"B\")\n",
    "node3 = node(\"C\")\n",
    "node4 = node(\"D\")\n",
    "\n",
    "#Connection creating:\n",
    "node1.add_neighbor(node2)\n",
    "node2.add_neighbor(node3)\n",
    "node3.add_neighbor(node4)\n",
    "\n",
    "# Start working.\n",
    "bfs_traversal(node1)"
   ]
  }
 ],
 "metadata": {
  "kernelspec": {
   "display_name": "Python 3",
   "language": "python",
   "name": "python3"
  },
  "language_info": {
   "codemirror_mode": {
    "name": "ipython",
    "version": 3
   },
   "file_extension": ".py",
   "mimetype": "text/x-python",
   "name": "python",
   "nbconvert_exporter": "python",
   "pygments_lexer": "ipython3",
   "version": "3.13.0"
  }
 },
 "nbformat": 4,
 "nbformat_minor": 2
}
