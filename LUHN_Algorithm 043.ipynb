{
 "cells": [
  {
   "cell_type": "code",
   "execution_count": 10,
   "metadata": {},
   "outputs": [
    {
     "name": "stdout",
     "output_type": "stream",
     "text": [
      "The card number is valid \n"
     ]
    }
   ],
   "source": [
    "def luhn_checker(card_no):\n",
    "    card_no_str = str(card_no)[::-1]\n",
    "    total = 0\n",
    "    for i, digit in enumerate(card_no_str):\n",
    "        n = int(digit)\n",
    "        if i % 2 == 1:\n",
    "            n *= 2\n",
    "            if n > 9:\n",
    "                n -= 9\n",
    "        total += n\n",
    "\n",
    "    return total % 10 == 0\n",
    "\n",
    "card_no = input(\"Enter the car number:\").replace(\"\",\"\")\n",
    "if luhn_checker(card_no):\n",
    "    print(\"The card number is valid \")\n",
    "else:\n",
    "    print(\"The card is not valid.\")\n",
    "    "
   ]
  },
  {
   "cell_type": "code",
   "execution_count": 12,
   "metadata": {},
   "outputs": [
    {
     "name": "stdout",
     "output_type": "stream",
     "text": [
      "String without puntuation: fhafjlhaslfdafsrfiaorqo44fsfposxfv\n"
     ]
    }
   ],
   "source": [
    "user_input =  input(\"Enter a string with puntuation:\")\n",
    "cleaned_string = \"\"\n",
    "puntuation = '''!()-[]{};:'\",<>./?@#$%^&*_~'''\n",
    "for char in user_input:\n",
    "    if char not in puntuation:\n",
    "        cleaned_string += char\n",
    "\n",
    "print(\"String without puntuation:\", cleaned_string)"
   ]
  },
  {
   "cell_type": "code",
   "execution_count": 13,
   "metadata": {},
   "outputs": [
    {
     "name": "stdout",
     "output_type": "stream",
     "text": [
      "Sorted words in alphabetical order:\n",
      "apple\n",
      "banana\n",
      "orange\n",
      "zebra\n"
     ]
    }
   ],
   "source": [
    "def bubble_sort(words):\n",
    "    n = len(words)\n",
    "    for i in range(n):\n",
    "        for j in range(0,n-i-1):\n",
    "            if words[j] > words[j+1]:\n",
    "                words[j], words[j+1] = words[j+1], words[j]\n",
    "input_string = input(\"Enter a string of words seperated by spaces:\")\n",
    "words = input_string.split()\n",
    "bubble_sort(words)\n",
    "print(\"Sorted words in alphabetical order:\")\n",
    "for word in words:\n",
    "    print(word)\n",
    "\n"
   ]
  },
  {
   "cell_type": "code",
   "execution_count": null,
   "metadata": {},
   "outputs": [],
   "source": []
  }
 ],
 "metadata": {
  "kernelspec": {
   "display_name": "Python 3",
   "language": "python",
   "name": "python3"
  },
  "language_info": {
   "codemirror_mode": {
    "name": "ipython",
    "version": 3
   },
   "file_extension": ".py",
   "mimetype": "text/x-python",
   "name": "python",
   "nbconvert_exporter": "python",
   "pygments_lexer": "ipython3",
   "version": "3.12.1"
  }
 },
 "nbformat": 4,
 "nbformat_minor": 2
}
